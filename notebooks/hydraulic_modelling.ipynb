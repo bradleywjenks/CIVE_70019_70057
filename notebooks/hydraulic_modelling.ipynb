{
  "cells": [
    {
      "cell_type": "markdown",
      "metadata": {
        "id": "view-in-github",
        "colab_type": "text"
      },
      "source": [
        "<a href=\"https://colab.research.google.com/github/bradleywjenks/CIVE_70019_70057/blob/main/notebooks/hydraulic_modelling.ipynb\" target=\"_parent\"><img src=\"https://colab.research.google.com/assets/colab-badge.svg\" alt=\"Open In Colab\"/></a>"
      ]
    },
    {
      "cell_type": "markdown",
      "metadata": {
        "id": "Va8u5W5kun5k"
      },
      "source": [
        "# Newton-Raphson method for hydraulic modelling\n",
        "### CIVE 70019/70057\n",
        "Department of Civil and Environmental Engineering, Imperial College London"
      ]
    },
    {
      "cell_type": "markdown",
      "metadata": {
        "id": "QUYpp8r7un5n"
      },
      "source": [
        "### Preamble\n",
        "This notebook walks through code implementation for developing a solver to simulate hydraulics in water distribution networks (WDNs). Specifically, we cover the following items:\n",
        "- Using the `wntr` Python package for WDN analysis\n",
        "- System of mass and energy conservation equations\n",
        "- Newton-Raphson method for solving system of nonlinear equations\n",
        "- Block factorisation and the Schur complement\n",
        "- Application of hydraulic solver on different case networks\n",
        "- Remarks on computational performance\n",
        "- Simulated v. measured pressure head comparison using an operational network"
      ]
    },
    {
      "cell_type": "markdown",
      "metadata": {
        "id": "UXjO2_VUjhGy"
      },
      "source": [
        "First, we must clone the repository and install dependencies."
      ]
    },
    {
      "cell_type": "code",
      "execution_count": 1,
      "metadata": {
        "colab": {
          "base_uri": "https://localhost:8080/"
        },
        "id": "r2GacZAfhBW7",
        "outputId": "e052def5-5a73-4a70-a67b-59d158908307"
      },
      "outputs": [
        {
          "output_type": "stream",
          "name": "stdout",
          "text": [
            "fatal: destination path 'CIVE_70019_70057' already exists and is not an empty directory.\n",
            "Collecting numpy==1.23.5\n",
            "  Using cached numpy-1.23.5.tar.gz (10.7 MB)\n",
            "  Installing build dependencies ... \u001b[?25l\u001b[?25hdone\n",
            "  \u001b[1;31merror\u001b[0m: \u001b[1msubprocess-exited-with-error\u001b[0m\n",
            "  \n",
            "  \u001b[31m×\u001b[0m \u001b[32mGetting requirements to build wheel\u001b[0m did not run successfully.\n",
            "  \u001b[31m│\u001b[0m exit code: \u001b[1;36m1\u001b[0m\n",
            "  \u001b[31m╰─>\u001b[0m See above for output.\n",
            "  \n",
            "  \u001b[1;35mnote\u001b[0m: This error originates from a subprocess, and is likely not a problem with pip.\n",
            "  Getting requirements to build wheel ... \u001b[?25l\u001b[?25herror\n",
            "\u001b[1;31merror\u001b[0m: \u001b[1msubprocess-exited-with-error\u001b[0m\n",
            "\n",
            "\u001b[31m×\u001b[0m \u001b[32mGetting requirements to build wheel\u001b[0m did not run successfully.\n",
            "\u001b[31m│\u001b[0m exit code: \u001b[1;36m1\u001b[0m\n",
            "\u001b[31m╰─>\u001b[0m See above for output.\n",
            "\n",
            "\u001b[1;35mnote\u001b[0m: This error originates from a subprocess, and is likely not a problem with pip.\n",
            "Requirement already satisfied: wntr==1.2 in /usr/local/lib/python3.12/dist-packages (1.2.0)\n",
            "Requirement already satisfied: numpy<2.0,>=1.21 in /usr/local/lib/python3.12/dist-packages (from wntr==1.2) (1.26.4)\n",
            "Requirement already satisfied: scipy in /usr/local/lib/python3.12/dist-packages (from wntr==1.2) (1.16.2)\n",
            "Requirement already satisfied: networkx in /usr/local/lib/python3.12/dist-packages (from wntr==1.2) (3.5)\n",
            "Requirement already satisfied: pandas in /usr/local/lib/python3.12/dist-packages (from wntr==1.2) (2.2.2)\n",
            "Requirement already satisfied: matplotlib in /usr/local/lib/python3.12/dist-packages (from wntr==1.2) (3.10.0)\n",
            "Requirement already satisfied: setuptools in /usr/local/lib/python3.12/dist-packages (from wntr==1.2) (75.2.0)\n",
            "Requirement already satisfied: contourpy>=1.0.1 in /usr/local/lib/python3.12/dist-packages (from matplotlib->wntr==1.2) (1.3.3)\n",
            "Requirement already satisfied: cycler>=0.10 in /usr/local/lib/python3.12/dist-packages (from matplotlib->wntr==1.2) (0.12.1)\n",
            "Requirement already satisfied: fonttools>=4.22.0 in /usr/local/lib/python3.12/dist-packages (from matplotlib->wntr==1.2) (4.60.1)\n",
            "Requirement already satisfied: kiwisolver>=1.3.1 in /usr/local/lib/python3.12/dist-packages (from matplotlib->wntr==1.2) (1.4.9)\n",
            "Requirement already satisfied: packaging>=20.0 in /usr/local/lib/python3.12/dist-packages (from matplotlib->wntr==1.2) (25.0)\n",
            "Requirement already satisfied: pillow>=8 in /usr/local/lib/python3.12/dist-packages (from matplotlib->wntr==1.2) (11.3.0)\n",
            "Requirement already satisfied: pyparsing>=2.3.1 in /usr/local/lib/python3.12/dist-packages (from matplotlib->wntr==1.2) (3.2.5)\n",
            "Requirement already satisfied: python-dateutil>=2.7 in /usr/local/lib/python3.12/dist-packages (from matplotlib->wntr==1.2) (2.9.0.post0)\n",
            "Requirement already satisfied: pytz>=2020.1 in /usr/local/lib/python3.12/dist-packages (from pandas->wntr==1.2) (2025.2)\n",
            "Requirement already satisfied: tzdata>=2022.7 in /usr/local/lib/python3.12/dist-packages (from pandas->wntr==1.2) (2025.2)\n",
            "Requirement already satisfied: six>=1.5 in /usr/local/lib/python3.12/dist-packages (from python-dateutil>=2.7->matplotlib->wntr==1.2) (1.17.0)\n",
            "Requirement already satisfied: cvxpy in /usr/local/lib/python3.12/dist-packages (1.6.7)\n",
            "Requirement already satisfied: osqp>=0.6.2 in /usr/local/lib/python3.12/dist-packages (from cvxpy) (1.0.4)\n",
            "Requirement already satisfied: clarabel>=0.5.0 in /usr/local/lib/python3.12/dist-packages (from cvxpy) (0.11.1)\n",
            "Requirement already satisfied: scs>=3.2.4.post1 in /usr/local/lib/python3.12/dist-packages (from cvxpy) (3.2.8)\n",
            "Requirement already satisfied: numpy>=1.21.6 in /usr/local/lib/python3.12/dist-packages (from cvxpy) (1.26.4)\n",
            "Requirement already satisfied: scipy>=1.11.0 in /usr/local/lib/python3.12/dist-packages (from cvxpy) (1.16.2)\n",
            "Requirement already satisfied: cffi in /usr/local/lib/python3.12/dist-packages (from clarabel>=0.5.0->cvxpy) (2.0.0)\n",
            "Requirement already satisfied: jinja2 in /usr/local/lib/python3.12/dist-packages (from osqp>=0.6.2->cvxpy) (3.1.6)\n",
            "Requirement already satisfied: setuptools in /usr/local/lib/python3.12/dist-packages (from osqp>=0.6.2->cvxpy) (75.2.0)\n",
            "Requirement already satisfied: joblib in /usr/local/lib/python3.12/dist-packages (from osqp>=0.6.2->cvxpy) (1.5.2)\n",
            "Requirement already satisfied: pycparser in /usr/local/lib/python3.12/dist-packages (from cffi->clarabel>=0.5.0->cvxpy) (2.23)\n",
            "Requirement already satisfied: MarkupSafe>=2.0 in /usr/local/lib/python3.12/dist-packages (from jinja2->osqp>=0.6.2->cvxpy) (3.0.3)\n",
            "Reading package lists... Done\n",
            "Building dependency tree... Done\n",
            "Reading state information... Done\n",
            "libsuitesparse-dev is already the newest version (1:5.10.1+dfsg-4build1).\n",
            "0 upgraded, 0 newly installed, 0 to remove and 38 not upgraded.\n",
            "Requirement already satisfied: scikit-sparse in /usr/local/lib/python3.12/dist-packages (0.4.16)\n",
            "Requirement already satisfied: numpy>=1.13.3 in /usr/local/lib/python3.12/dist-packages (from scikit-sparse) (1.26.4)\n",
            "Requirement already satisfied: scipy>=0.19 in /usr/local/lib/python3.12/dist-packages (from scikit-sparse) (1.16.2)\n",
            "\n",
            "============================================================\n",
            "⚠️  IMPORTANT: Click 'Runtime > Restart runtime' now\n",
            "Then run the next cell to continue\n",
            "============================================================\n"
          ]
        }
      ],
      "source": [
        "# Run this cell once\n",
        "import sys\n",
        "import os\n",
        "\n",
        "import sys\n",
        "\n",
        "if 'google.colab' in sys.modules:\n",
        "    !git clone https://github.com/bradleywjenks/CIVE_70019_70057.git\n",
        "    !pip install numpy==1.23.5\n",
        "    !pip install wntr==1.2\n",
        "    !pip install cvxpy\n",
        "    !apt-get install libsuitesparse-dev && pip install scikit-sparse\n",
        "\n",
        "    print(\"\\n\" + \"=\"*60)\n",
        "    print(\"⚠️  IMPORTANT: Click 'Runtime > Restart runtime' now\")\n",
        "    print(\"Then run the next cell to continue\")\n",
        "    print(\"=\"*60)"
      ]
    },
    {
      "cell_type": "markdown",
      "metadata": {
        "id": "Oaxj2Ateun5p"
      },
      "source": [
        "### WNTR Python package"
      ]
    },
    {
      "cell_type": "markdown",
      "metadata": {
        "id": "E5SO7eYLun5q"
      },
      "source": [
        "The Water Network Tool for Resilience (WNTR) Python package for simulating WDNs. It is based on the EPANET solvers. Here, we will be using `wntr` to load network data (.inp file) and compare hydraulic simulation results with our own solver."
      ]
    },
    {
      "cell_type": "markdown",
      "metadata": {
        "id": "IHqegeXdun5q"
      },
      "source": [
        "#### Using WNTR's hydraulic solver\n",
        "The code below follows an example from the `wntr` documentation: https://wntr.readthedocs.io/en/latest/index.html. Note that we have uploaded four (4) network (.inp) files for use in this notebook."
      ]
    },
    {
      "cell_type": "code",
      "execution_count": null,
      "metadata": {
        "colab": {
          "base_uri": "https://localhost:8080/",
          "height": 793
        },
        "id": "E6JhrpfMun5q",
        "outputId": "80d08072-6abe-4253-8e64-00f910addf68"
      },
      "outputs": [
        {
          "output_type": "stream",
          "name": "stdout",
          "text": [
            "Hello\n"
          ]
        },
        {
          "output_type": "display_data",
          "data": {
            "text/plain": [
              "<Figure size 640x480 with 1 Axes>"
            ],
            "image/png": "[encoded data removed]"
          },
          "metadata": {}
        },
        {
          "output_type": "error",
          "ename": "OSError",
          "evalue": "/usr/local/lib/python3.11/dist-packages/wntr/epanet/libepanet/linux-x64/libepanet22.so: cannot open shared object file: No such file or directory",
          "traceback": [
            "\u001b[0;31m---------------------------------------------------------------------------\u001b[0m",
            "\u001b[0;31mOSError\u001b[0m                                   Traceback (most recent call last)",
            "\u001b[0;32m<ipython-input-3-a116b81fc119>\u001b[0m in \u001b[0;36m<cell line: 0>\u001b[0;34m()\u001b[0m\n\u001b[1;32m     23\u001b[0m \u001b[0;31m# Simulate hydraulics\u001b[0m\u001b[0;34m\u001b[0m\u001b[0;34m\u001b[0m\u001b[0m\n\u001b[1;32m     24\u001b[0m \u001b[0msim\u001b[0m \u001b[0;34m=\u001b[0m \u001b[0mwntr\u001b[0m\u001b[0;34m.\u001b[0m\u001b[0msim\u001b[0m\u001b[0;34m.\u001b[0m\u001b[0mEpanetSimulator\u001b[0m\u001b[0;34m(\u001b[0m\u001b[0mwn\u001b[0m\u001b[0;34m)\u001b[0m\u001b[0;34m\u001b[0m\u001b[0;34m\u001b[0m\u001b[0m\n\u001b[0;32m---> 25\u001b[0;31m \u001b[0mresults\u001b[0m \u001b[0;34m=\u001b[0m \u001b[0msim\u001b[0m\u001b[0;34m.\u001b[0m\u001b[0mrun_sim\u001b[0m\u001b[0;34m(\u001b[0m\u001b[0;34m)\u001b[0m\u001b[0;34m\u001b[0m\u001b[0;34m\u001b[0m\u001b[0m\n\u001b[0m\u001b[1;32m     26\u001b[0m \u001b[0;34m\u001b[0m\u001b[0m\n\u001b[1;32m     27\u001b[0m \u001b[0;31m# Plot results on the network\u001b[0m\u001b[0;34m\u001b[0m\u001b[0;34m\u001b[0m\u001b[0m\n",
            "\u001b[0;32m/usr/local/lib/python3.11/dist-packages/wntr/sim/epanet.py\u001b[0m in \u001b[0;36mrun_sim\u001b[0;34m(self, file_prefix, save_hyd, use_hyd, hydfile, version, convergence_error)\u001b[0m\n\u001b[1;32m    105\u001b[0m         \u001b[0minpfile\u001b[0m \u001b[0;34m=\u001b[0m \u001b[0mfile_prefix\u001b[0m \u001b[0;34m+\u001b[0m \u001b[0;34m'.inp'\u001b[0m\u001b[0;34m\u001b[0m\u001b[0;34m\u001b[0m\u001b[0m\n\u001b[1;32m    106\u001b[0m         \u001b[0mwrite_inpfile\u001b[0m\u001b[0;34m(\u001b[0m\u001b[0mself\u001b[0m\u001b[0;34m.\u001b[0m\u001b[0m_wn\u001b[0m\u001b[0;34m,\u001b[0m \u001b[0minpfile\u001b[0m\u001b[0;34m,\u001b[0m \u001b[0munits\u001b[0m\u001b[0;34m=\u001b[0m\u001b[0mself\u001b[0m\u001b[0;34m.\u001b[0m\u001b[0m_wn\u001b[0m\u001b[0;34m.\u001b[0m\u001b[0moptions\u001b[0m\u001b[0;34m.\u001b[0m\u001b[0mhydraulic\u001b[0m\u001b[0;34m.\u001b[0m\u001b[0minpfile_units\u001b[0m\u001b[0;34m,\u001b[0m \u001b[0mversion\u001b[0m\u001b[0;34m=\u001b[0m\u001b[0mversion\u001b[0m\u001b[0;34m)\u001b[0m\u001b[0;34m\u001b[0m\u001b[0;34m\u001b[0m\u001b[0m\n\u001b[0;32m--> 107\u001b[0;31m         \u001b[0menData\u001b[0m \u001b[0;34m=\u001b[0m \u001b[0mwntr\u001b[0m\u001b[0;34m.\u001b[0m\u001b[0mepanet\u001b[0m\u001b[0;34m.\u001b[0m\u001b[0mtoolkit\u001b[0m\u001b[0;34m.\u001b[0m\u001b[0mENepanet\u001b[0m\u001b[0;34m(\u001b[0m\u001b[0mversion\u001b[0m\u001b[0;34m=\u001b[0m\u001b[0mversion\u001b[0m\u001b[0;34m)\u001b[0m\u001b[0;34m\u001b[0m\u001b[0;34m\u001b[0m\u001b[0m\n\u001b[0m\u001b[1;32m    108\u001b[0m         \u001b[0mself\u001b[0m\u001b[0;34m.\u001b[0m\u001b[0menData\u001b[0m \u001b[0;34m=\u001b[0m \u001b[0menData\u001b[0m\u001b[0;34m\u001b[0m\u001b[0;34m\u001b[0m\u001b[0m\n\u001b[1;32m    109\u001b[0m         \u001b[0mrptfile\u001b[0m \u001b[0;34m=\u001b[0m \u001b[0mfile_prefix\u001b[0m \u001b[0;34m+\u001b[0m \u001b[0;34m'.rpt'\u001b[0m\u001b[0;34m\u001b[0m\u001b[0;34m\u001b[0m\u001b[0m\n",
            "\u001b[0;32m/usr/local/lib/python3.11/dist-packages/wntr/epanet/toolkit.py\u001b[0m in \u001b[0;36m__init__\u001b[0;34m(self, inpfile, rptfile, binfile, version)\u001b[0m\n\u001b[1;32m    116\u001b[0m                 \u001b[0mself\u001b[0m\u001b[0;34m.\u001b[0m\u001b[0mENlib\u001b[0m \u001b[0;34m=\u001b[0m \u001b[0mctypes\u001b[0m\u001b[0;34m.\u001b[0m\u001b[0mwindll\u001b[0m\u001b[0;34m.\u001b[0m\u001b[0mLoadLibrary\u001b[0m\u001b[0;34m(\u001b[0m\u001b[0mlibname\u001b[0m\u001b[0;34m)\u001b[0m\u001b[0;34m\u001b[0m\u001b[0;34m\u001b[0m\u001b[0m\n\u001b[1;32m    117\u001b[0m             \u001b[0;32melse\u001b[0m\u001b[0;34m:\u001b[0m\u001b[0;34m\u001b[0m\u001b[0;34m\u001b[0m\u001b[0m\n\u001b[0;32m--> 118\u001b[0;31m                 \u001b[0mself\u001b[0m\u001b[0;34m.\u001b[0m\u001b[0mENlib\u001b[0m \u001b[0;34m=\u001b[0m \u001b[0mctypes\u001b[0m\u001b[0;34m.\u001b[0m\u001b[0mcdll\u001b[0m\u001b[0;34m.\u001b[0m\u001b[0mLoadLibrary\u001b[0m\u001b[0;34m(\u001b[0m\u001b[0mlibname\u001b[0m\u001b[0;34m)\u001b[0m\u001b[0;34m\u001b[0m\u001b[0;34m\u001b[0m\u001b[0m\n\u001b[0m\u001b[1;32m    119\u001b[0m         \u001b[0;32mexcept\u001b[0m\u001b[0;34m:\u001b[0m\u001b[0;34m\u001b[0m\u001b[0;34m\u001b[0m\u001b[0m\n\u001b[1;32m    120\u001b[0m             \u001b[0;32mraise\u001b[0m\u001b[0;34m\u001b[0m\u001b[0;34m\u001b[0m\u001b[0m\n",
            "\u001b[0;32m/usr/lib/python3.11/ctypes/__init__.py\u001b[0m in \u001b[0;36mLoadLibrary\u001b[0;34m(self, name)\u001b[0m\n\u001b[1;32m    452\u001b[0m \u001b[0;34m\u001b[0m\u001b[0m\n\u001b[1;32m    453\u001b[0m     \u001b[0;32mdef\u001b[0m \u001b[0mLoadLibrary\u001b[0m\u001b[0;34m(\u001b[0m\u001b[0mself\u001b[0m\u001b[0;34m,\u001b[0m \u001b[0mname\u001b[0m\u001b[0;34m)\u001b[0m\u001b[0;34m:\u001b[0m\u001b[0;34m\u001b[0m\u001b[0;34m\u001b[0m\u001b[0m\n\u001b[0;32m--> 454\u001b[0;31m         \u001b[0;32mreturn\u001b[0m \u001b[0mself\u001b[0m\u001b[0;34m.\u001b[0m\u001b[0m_dlltype\u001b[0m\u001b[0;34m(\u001b[0m\u001b[0mname\u001b[0m\u001b[0;34m)\u001b[0m\u001b[0;34m\u001b[0m\u001b[0;34m\u001b[0m\u001b[0m\n\u001b[0m\u001b[1;32m    455\u001b[0m \u001b[0;34m\u001b[0m\u001b[0m\n\u001b[1;32m    456\u001b[0m     \u001b[0m__class_getitem__\u001b[0m \u001b[0;34m=\u001b[0m \u001b[0mclassmethod\u001b[0m\u001b[0;34m(\u001b[0m\u001b[0m_types\u001b[0m\u001b[0;34m.\u001b[0m\u001b[0mGenericAlias\u001b[0m\u001b[0;34m)\u001b[0m\u001b[0;34m\u001b[0m\u001b[0;34m\u001b[0m\u001b[0m\n",
            "\u001b[0;32m/usr/lib/python3.11/ctypes/__init__.py\u001b[0m in \u001b[0;36m__init__\u001b[0;34m(self, name, mode, handle, use_errno, use_last_error, winmode)\u001b[0m\n\u001b[1;32m    374\u001b[0m \u001b[0;34m\u001b[0m\u001b[0m\n\u001b[1;32m    375\u001b[0m         \u001b[0;32mif\u001b[0m \u001b[0mhandle\u001b[0m \u001b[0;32mis\u001b[0m \u001b[0;32mNone\u001b[0m\u001b[0;34m:\u001b[0m\u001b[0;34m\u001b[0m\u001b[0;34m\u001b[0m\u001b[0m\n\u001b[0;32m--> 376\u001b[0;31m             \u001b[0mself\u001b[0m\u001b[0;34m.\u001b[0m\u001b[0m_handle\u001b[0m \u001b[0;34m=\u001b[0m \u001b[0m_dlopen\u001b[0m\u001b[0;34m(\u001b[0m\u001b[0mself\u001b[0m\u001b[0;34m.\u001b[0m\u001b[0m_name\u001b[0m\u001b[0;34m,\u001b[0m \u001b[0mmode\u001b[0m\u001b[0;34m)\u001b[0m\u001b[0;34m\u001b[0m\u001b[0;34m\u001b[0m\u001b[0m\n\u001b[0m\u001b[1;32m    377\u001b[0m         \u001b[0;32melse\u001b[0m\u001b[0;34m:\u001b[0m\u001b[0;34m\u001b[0m\u001b[0;34m\u001b[0m\u001b[0m\n\u001b[1;32m    378\u001b[0m             \u001b[0mself\u001b[0m\u001b[0;34m.\u001b[0m\u001b[0m_handle\u001b[0m \u001b[0;34m=\u001b[0m \u001b[0mhandle\u001b[0m\u001b[0;34m\u001b[0m\u001b[0;34m\u001b[0m\u001b[0m\n",
            "\u001b[0;31mOSError\u001b[0m: /usr/local/lib/python3.11/dist-packages/wntr/epanet/libepanet/linux-x64/libepanet22.so: cannot open shared object file: No such file or directory"
          ]
        }
      ],
      "source": [
        "# Load dependencies\n",
        "import wntr\n",
        "\n",
        "# net_name = 'demo.inp'\n",
        "net_name = 'stkl.inp'\n",
        "\n",
        "# Create water network model\n",
        "if 'google.colab' in sys.modules:\n",
        "    # if run in Google Colab\n",
        "    data_dir = '/content/CIVE_70019_70057/data/parameter_estimation/'\n",
        "    net_dir = '/content/CIVE_70019_70057/data/networks/'\n",
        "    print(\"Hello\")\n",
        "else:\n",
        "    # replace with local directory\n",
        "    data_dir = '/home/bradw/workspace/CIVE_70019_70057/data/parameter_estimation/'\n",
        "    net_dir = '/home/bradw/workspace/CIVE_70019_70057/data/networks/'\n",
        "\n",
        "wn = wntr.network.WaterNetworkModel(os.path.join(net_dir, net_name))\n",
        "\n",
        "# Graph the network\n",
        "wntr.graphics.plot_network(wn, title='Network layout', node_size=30)\n",
        "\n",
        "# Simulate hydraulics\n",
        "sim = wntr.sim.EpanetSimulator(wn)\n",
        "results = sim.run_sim()\n",
        "\n",
        "# Plot results on the network\n",
        "hydraulic_state = 'head' # or 'flow' or 'head'\n",
        "\n",
        "if hydraulic_state == 'head':\n",
        "    head = results.node['head'].loc[0, :]\n",
        "    wntr.graphics.plot_network(wn, node_attribute=head,\n",
        "                            title='Hydraulic head', node_colorbar_label='Head [m]', node_size=30)\n",
        "elif hydraulic_state == 'pressure':\n",
        "    pressure = results.node['pressure'].loc[0, :]\n",
        "    wntr.graphics.plot_network(wn, node_attribute=pressure,\n",
        "                            title='Pressure head', node_colorbar_label='Pressure [m]', node_size=30)\n",
        "elif hydraulic_state == 'flow':\n",
        "    flow = results.link['flowrate'].loc[0, :]\n",
        "    wntr.graphics.plot_network(wn, link_attribute=flow, title='Link flow', link_colorbar_label='Flow [L/s]', node_size=0)"
      ]
    },
    {
      "cell_type": "markdown",
      "metadata": {
        "id": "FsuLdI2gun5r"
      },
      "source": [
        "#### Data extraction\n",
        "We will now use WNTR to extract network data for developing our own hydraulic solver."
      ]
    },
    {
      "cell_type": "code",
      "execution_count": null,
      "metadata": {
        "id": "_BNVYphPun5r"
      },
      "outputs": [],
      "source": [
        "# Load additional dependencies\n",
        "import networkx as nx\n",
        "import pandas as pd\n",
        "import numpy as np\n",
        "import scipy.sparse as sp"
      ]
    },
    {
      "cell_type": "markdown",
      "metadata": {
        "id": "bcT2fMjcun5s"
      },
      "source": [
        "Get network elements and simulation information."
      ]
    },
    {
      "cell_type": "code",
      "execution_count": null,
      "metadata": {
        "id": "AkhQRMAHun5s"
      },
      "outputs": [],
      "source": [
        "'''\n",
        "    nt = number of discrete time steps\n",
        "    nn = number of demand or junction nodes\n",
        "    np = number of links\n",
        "    n0 = number of source (reservoir) nodes\n",
        "'''\n",
        "\n",
        "nt = int(wn.options.time.duration / wn.options.time.report_timestep)\n",
        "nt = nt if nt>0 else 1\n",
        "net_info = dict(\n",
        "    np=wn.num_links,\n",
        "    nn=wn.num_junctions,\n",
        "    n0=wn.num_reservoirs,\n",
        "    nt=nt,\n",
        "    headloss=wn.options.hydraulic.headloss,\n",
        "    units=wn.options.hydraulic.inpfile_units,\n",
        "    reservoir_names=wn.reservoir_name_list,\n",
        "    junction_names=wn.junction_name_list,\n",
        "    pipe_names=wn.pipe_name_list,\n",
        "    valve_names=wn.valve_name_list,\n",
        "    prv_names=wn.prv_name_list\n",
        ")"
      ]
    },
    {
      "cell_type": "markdown",
      "metadata": {
        "id": "Yg_c1GZ9un5s"
      },
      "source": [
        "Extract link data."
      ]
    },
    {
      "cell_type": "code",
      "execution_count": null,
      "metadata": {
        "id": "eAuy1z9Cun5s"
      },
      "outputs": [],
      "source": [
        "# Check head loss model\n",
        "if net_info['headloss'] == 'H-W':\n",
        "    n_exp = 1.852\n",
        "elif net_info['headloss'] == 'D-W':\n",
        "    n_exp = 2\n",
        "\n",
        "# NB: 'C' denotes roughness or HW coefficient for pipes and local (minor) loss coefficient for valves\n",
        "link_df = pd.DataFrame(\n",
        "    index=pd.RangeIndex(net_info['np']),\n",
        "    columns=['link_ID', 'link_type', 'diameter', 'length', 'n_exp', 'C', 'node_out', 'node_in'],\n",
        ")\n",
        "def link_dict(link):\n",
        "    if isinstance(link, wntr.network.Pipe):  # check if the link is a pipe\n",
        "        return dict(\n",
        "            link_ID=link.name,\n",
        "            link_type='pipe',\n",
        "            diameter=link.diameter,\n",
        "            length=link.length,\n",
        "            n_exp=n_exp,\n",
        "            C=link.roughness,\n",
        "            node_out=link.start_node_name,\n",
        "            node_in=link.end_node_name\n",
        "        )\n",
        "    elif isinstance(link, wntr.network.Valve): # check if the link is a valve\n",
        "        return dict(\n",
        "            link_ID=link.name,\n",
        "            link_type='valve',\n",
        "            diameter=link.diameter,\n",
        "            length=2*link.diameter,\n",
        "            n_exp=2,\n",
        "            C=link.minor_loss,\n",
        "            node_out=link.start_node_name,\n",
        "            node_in=link.end_node_name\n",
        "        )\n",
        "\n",
        "for idx, link in enumerate(wn.links()):\n",
        "    link_df.loc[idx] = link_dict(link[1])\n",
        "\n",
        "link_df"
      ]
    },
    {
      "cell_type": "markdown",
      "metadata": {
        "id": "J-kyMo-Lun5t"
      },
      "source": [
        "Extract node data."
      ]
    },
    {
      "cell_type": "code",
      "execution_count": null,
      "metadata": {
        "id": "QUOH1DKtun5t"
      },
      "outputs": [],
      "source": [
        "node_df = pd.DataFrame(\n",
        "    index=pd.RangeIndex(wn.num_nodes), columns=[\"node_ID\", \"elev\", \"xcoord\", \"ycoord\"]\n",
        ")\n",
        "\n",
        "def node_dict(node):\n",
        "    if isinstance(node, wntr.network.elements.Reservoir):\n",
        "        elev = 0\n",
        "    else:\n",
        "        elev = node.elevation\n",
        "    return dict(\n",
        "        node_ID=node.name,\n",
        "        elev=elev,\n",
        "        xcoord=node.coordinates[0],\n",
        "        ycoord=node.coordinates[1]\n",
        "    )\n",
        "\n",
        "for idx, node in enumerate(wn.nodes()):\n",
        "    node_df.loc[idx] = node_dict(node[1])\n",
        "\n",
        "node_df"
      ]
    },
    {
      "cell_type": "markdown",
      "metadata": {
        "id": "TJtQmREgun5u"
      },
      "source": [
        "Create network graph."
      ]
    },
    {
      "cell_type": "code",
      "execution_count": null,
      "metadata": {
        "id": "EgpMMniLun5u"
      },
      "outputs": [],
      "source": [
        "# extract network as a graph\n",
        "uG = nx.from_pandas_edgelist(link_df, source='node_out', target='node_in')\n",
        "pos = {row['node_ID']: (row['xcoord'], row['ycoord']) for _, row in node_df.iterrows()}\n",
        "reservoir_labels = {node: 'Reservoir' for node in net_info['reservoir_names']}\n",
        "\n",
        "# draw entire network\n",
        "nx.draw(uG, pos, node_size=25, node_shape='o', node_color='black')\n",
        "\n",
        "# draw reservoir nodes\n",
        "nx.draw_networkx_nodes(uG, pos, nodelist=net_info['reservoir_names'], node_size=75, node_shape='s', node_color='black')\n",
        "\n",
        "# reservoir labels\n",
        "labels = nx.draw_networkx_labels(uG, pos, reservoir_labels, font_size=12, verticalalignment='bottom')\n",
        "for _, label in labels.items():\n",
        "    label.set_y(label.get_position()[1] + 80)\n",
        "\n",
        "# create adjacency matrices\n",
        "A = np.zeros((net_info['np'], net_info['nn']+net_info['n0']), dtype=int)\n",
        "for k, row in link_df.iterrows():\n",
        "    # find start node\n",
        "    out_name = row['node_out']\n",
        "    out_idx = node_df[node_df['node_ID']==out_name].index[0]\n",
        "    # find end node\n",
        "    in_name = row['node_in']\n",
        "    in_idx = node_df[node_df['node_ID']==in_name].index[0]\n",
        "\n",
        "    A[k, out_idx] = -1\n",
        "    A[k, in_idx] = 1\n",
        "\n",
        "junction_idx = node_df.index[node_df['node_ID'].isin(net_info['junction_names'])].tolist()\n",
        "reservoir_idx = node_df.index[node_df['node_ID'].isin(net_info['reservoir_names'])].tolist()\n",
        "\n",
        "# incident matrices\n",
        "A12 = A[:, junction_idx]; A12 = sp.csr_matrix(A12) # link-junction incident matrix\n",
        "A10 = A[:, reservoir_idx]; A10 = sp.csr_matrix(A10) # link-reservoir indicent matrix"
      ]
    },
    {
      "cell_type": "markdown",
      "metadata": {
        "id": "n9oHXBOUun5u"
      },
      "source": [
        "Extract operational data (e.g. demands, boundary heads)."
      ]
    },
    {
      "cell_type": "code",
      "execution_count": null,
      "metadata": {
        "id": "ro6gf4Jnun5u",
        "scrolled": false
      },
      "outputs": [],
      "source": [
        "# demand data\n",
        "demand_df = results.node['demand'].T\n",
        "col_names = [f'demands_{t}' for t in range(1, len(demand_df.columns)+1)]\n",
        "demand_df.columns = col_names\n",
        "demand_df.reset_index(drop=False, inplace=True)\n",
        "demand_df = demand_df.rename(columns={'name': 'node_ID'})\n",
        "\n",
        "if net_info['nt'] > 1:\n",
        "    demand_df = demand_df.iloc[:, :-1] # delete last time step\n",
        "\n",
        "demand_df = demand_df[~demand_df['node_ID'].isin(net_info['reservoir_names'])] # delete reservoir nodes\n",
        "demand_df"
      ]
    },
    {
      "cell_type": "code",
      "execution_count": null,
      "metadata": {
        "id": "HfgOBqrHun5v"
      },
      "outputs": [],
      "source": [
        "# boundary head data\n",
        "h0_df = results.node['head'].T\n",
        "col_names = [f'h0_{t}' for t in range(1, len(h0_df.columns)+1)]\n",
        "h0_df.columns = col_names\n",
        "h0_df.reset_index(drop=False, inplace=True)\n",
        "h0_df = h0_df.rename(columns={'name': 'node_ID'})\n",
        "\n",
        "if net_info['nt'] > 1:\n",
        "    h0_df = h0_df.iloc[:, :-1] # delete last time step\n",
        "\n",
        "h0_df = h0_df[h0_df['node_ID'].isin(net_info['reservoir_names'])] # only reservoir nodes\n",
        "h0_df"
      ]
    },
    {
      "cell_type": "markdown",
      "metadata": {
        "id": "1NgOgMpIun5v"
      },
      "source": [
        "<span style=\"color:red\">**NB: The above code comprise functions 'load_network_data' and 'plot_network' in the file '~/src/general_functions.py'**.</span>"
      ]
    },
    {
      "cell_type": "markdown",
      "metadata": {
        "id": "SFg6WFO7un5w"
      },
      "source": [
        "### Newton-Raphson hydraulic solver\n",
        "We will now develop our own hydraulic solver using the Newton-Raphson method for solving nonlinear systems of equations."
      ]
    },
    {
      "cell_type": "markdown",
      "metadata": {
        "id": "mWfnH-9pun5w"
      },
      "source": [
        "#### System of nonlinear equations\n",
        "Hydraulic states are computed for each time step $t \\in \\{1, \\dots, n_t\\}$, where $n_t$ denotes the number of discrete time steps in the simulation period. These comprise the following unknown variables for which we wish to solve:\n",
        "- Flow rate $q_t \\in \\mathbb{R}^{n_p}$ conveyed across network links, where $n_p$ is the number of links\n",
        "- Hydraulic head $h_t \\in \\mathbb{R}^{n_n}$ at network nodes, where $n_n$ is the number of junction nodes\n",
        "\n",
        "Their solution is governed by **energy** and **mass** conservation equations, as follows:"
      ]
    },
    {
      "cell_type": "markdown",
      "metadata": {
        "id": "D1yB_37Zun5w"
      },
      "source": [
        "\\begin{equation}\n",
        "    A_{11}(q_t)q_t + A_{12}h_t + A_{10}h_{0t} = 0 \\\\\n",
        "    A_{12}^{T}q_t + d_t = 0,\n",
        "\\label{eq:hydraulic} \\tag{1}\n",
        "\\end{equation}"
      ]
    },
    {
      "cell_type": "markdown",
      "metadata": {
        "id": "n0ZPD4_Sun5w"
      },
      "source": [
        "where\n",
        "- $A_{11} \\in \\mathbb{R}^{n_p \\times n_p} = R_j|q_j^{n-1}|, \\;\\, \\forall j \\in \\{1, \\dots, n_p\\}$ is a diagonal matrix of frictional head losses and $R_j$ is the pipe or valve resistance coefficient\n",
        "- $A_{12} \\in \\mathbb{R}^{n_n \\times n_p}$ is the node-link incidence matrix\n",
        "- $A_{21} (=A_{12}^T) \\in \\mathbb{R}^{n_p \\times n_n}$ is the link-node incidence matrix\n",
        "- $A_{10} \\in \\mathbb{R}^{n_p \\times n_0}$ is the link-known head incidence matrix\n",
        "- $d_t \\in \\mathbb{R}^{n_n}$ is the vector of known demands (i.e. loading conditions)\n",
        "- $h_{0t} \\in \\mathbb{R}^{n_0}$ is the vector of known hydraulic heads (i.e. boundary conditions)"
      ]
    },
    {
      "cell_type": "markdown",
      "metadata": {
        "id": "Supt0mAgun5x"
      },
      "source": [
        "We omit time index $t$ henceforth since the same equations are applied for all time steps. The system of nonlinear equations in \\eqref{eq:hydraulic} is written in matrix form, as follows:"
      ]
    },
    {
      "cell_type": "markdown",
      "metadata": {
        "id": "_uG1kVXVun5x"
      },
      "source": [
        "\\begin{equation}\n",
        " F(q,h):= \\left[\n",
        "    {\\renewcommand{\\arraystretch}{1.5}\n",
        "        \\begin{array}{cc}\n",
        "            A_{11}(q) & A_{12}  \\\\\n",
        "            A_{12}^{T} & 0 \\\\\n",
        "        \\end{array}}\\right]\n",
        "    \\left[\n",
        "    {\\renewcommand{\\arraystretch}{1.5}\n",
        "        \\begin{array}{c}\n",
        "            q \\\\\n",
        "            h \\\\\n",
        "        \\end{array}}\\right] -\n",
        "    \\left[\n",
        "    {\\renewcommand{\\arraystretch}{1.5}\n",
        "        \\begin{array}{c}\n",
        "            -A_{10}h_0 \\\\\n",
        "            d \\\\\n",
        "        \\end{array}}\\right] = 0.\n",
        "\\label{eq:hydraulic_matrix} \\tag{2}\n",
        "\\end{equation}"
      ]
    },
    {
      "cell_type": "markdown",
      "metadata": {
        "id": "yHaz_GK1un5x"
      },
      "source": [
        "#### Newton-Raphson method\n",
        "We can then apply the Newton-Raphson method to solve the system of nonlinear equations in \\eqref{eq:hydraulic_matrix}. The Newton-Raphson method is an iterative numerical technique for finding the root of an equation. At each iteration $k$, a new estimate of the root is found using the following formula:"
      ]
    },
    {
      "cell_type": "markdown",
      "metadata": {
        "id": "0tzccjY1un5x"
      },
      "source": [
        "\\begin{equation}\n",
        "    x^{k+1} = x^k - J(x^k)^{-1}F(x^k),\n",
        "\\label{eq:newton_raphson_1} \\tag{3}\n",
        "\\end{equation}"
      ]
    },
    {
      "cell_type": "markdown",
      "metadata": {
        "id": "vRP4Cl8Pun5x"
      },
      "source": [
        "where $J(x)$ is the Jacobian, a matrix of first-order partial derivatives. In general form, if $F(x)$ has $m$ equations, $f_1,f_2,\\dots,f_m$, and $n$ variables, $x_1,x_2,\\dots,x_n$, as"
      ]
    },
    {
      "cell_type": "markdown",
      "metadata": {
        "id": "cM-JDTm4un5y"
      },
      "source": [
        "\\begin{equation}\n",
        "    F(x)= \\left[\\begin{array}{c}\n",
        "    f_1(x_1,\\cdot,x_n)\\\\\n",
        "    \\vdots\\\\\n",
        "    f_m(x_1,\\cdot,x_n)\\\\\n",
        "    \\end{array}\\right],\n",
        "\\label{eq:general_function} \\tag{4}\n",
        "\\end{equation}"
      ]
    },
    {
      "cell_type": "markdown",
      "metadata": {
        "id": "SAnrfosSun5y"
      },
      "source": [
        "then the Jacobian $J(x)$ is expressed mathematically as follows:"
      ]
    },
    {
      "cell_type": "markdown",
      "metadata": {
        "id": "4aMT0Vf4un5y"
      },
      "source": [
        "\\begin{equation}\n",
        "    J(x) =\\left[\\begin{array}{cccc}\n",
        "    \\frac{\\partial f_1}{\\partial x_1} & \\frac{\\partial f_1}{\\partial x_2} & \\cdots & \\frac{\\partial f_1}{\\partial x_n}\\\\\n",
        "    \\frac{\\partial f_2}{\\partial x_1} & \\frac{\\partial f_2}{\\partial x_2} & \\cdots & \\frac{\\partial f_2}{\\partial x_n}\\\\\n",
        "    \\vdots & \\vdots & \\ddots & \\vdots\\\\\n",
        "    \\frac{\\partial f_m}{\\partial x_1} & \\frac{\\partial f_m}{\\partial x_2} & \\cdots & \\frac{\\partial f_m}{\\partial x_n}\\\\\n",
        "    \\end{array}\\right].\n",
        "\\label{eq:jacobian} \\tag{5}\n",
        "\\end{equation}"
      ]
    },
    {
      "cell_type": "markdown",
      "metadata": {
        "id": "x0NNYGNKun5z"
      },
      "source": [
        "#### Hydraulic solver\n",
        "We now define the Jacobian $J(x)$ and Newton-Raphson steps to compute a unique solution to the hydraulic model in \\eqref{eq:hydraulic}. The system of nonlinear equations,"
      ]
    },
    {
      "cell_type": "markdown",
      "metadata": {
        "id": "OWjJbYhQun5z"
      },
      "source": [
        "\\begin{equation}\n",
        "F(q, h) := \\left\\lbrace \\begin{array}{ll}\n",
        "    f_1(q,h) = A_{11}(q)q + A_{12}h + A_{10}h_0 = 0 \\\\\n",
        "    f_2(q,h) = A_{21}q - d = 0,\n",
        "\\end{array}\\right.\n",
        "\\label{eq:nonlinear_system} \\tag{6}\n",
        "\\end{equation}"
      ]
    },
    {
      "cell_type": "markdown",
      "metadata": {
        "id": "LBL8opRiun5z"
      },
      "source": [
        "has a Jacobian computed as"
      ]
    },
    {
      "cell_type": "markdown",
      "metadata": {
        "id": "YEQBO1LZun5z"
      },
      "source": [
        "\\begin{equation}\n",
        "J (q, h) := \\left\\lbrace \\begin{array}{ll}\n",
        "    \\frac{\\partial f_1 }{\\partial q}=\\frac{\\partial A_{11}(q)q}{\\partial q}=\\frac{\\partial R|q^{n-1}|q}{\\partial q}={N Kq}^{n-1} ={NA_{11}(q)} \\\\\n",
        "    \\frac{\\partial f_1 }{\\partial h}=\\frac{\\partial A_{12} h}{\\partial h}=A_{12} \\\\\n",
        "    \\frac{\\partial f_2 }{\\partial q}=\\frac{\\partial A_{12}^T q}{\\partial q}=A_{12}^T \\\\\n",
        "    \\frac{\\partial f_2 }{\\partial h}=0,\n",
        "\\end{array}\\right.\n",
        "\\label{eq:jacobian_hydraulic} \\tag{7}\n",
        "\\end{equation}"
      ]
    },
    {
      "cell_type": "markdown",
      "metadata": {
        "id": "MF-ETTqIun5z"
      },
      "source": [
        "which can be written in matrix form as"
      ]
    },
    {
      "cell_type": "markdown",
      "metadata": {
        "id": "_fki9Bvuun5z"
      },
      "source": [
        "\\begin{equation}\n",
        "    J(q,h)=\\left[\\begin{array}{cc}\n",
        "    \\frac{\\partial f_1}{\\partial q} & \\frac{\\partial f_1}{\\partial h} \\\\\n",
        "    \\frac{\\partial f_2}{\\partial q} & \\frac{\\partial f_2}{\\partial h} \\\\\n",
        "    \\end{array}\\right]=\\left[\\begin{array}{cc}\n",
        "    NA_{11}(q) & {A_{12}} \\\\\n",
        "    {A_{12}^T} & 0 \\\\\n",
        "    \\end{array}\\right], \\; \\text{where} \\;\n",
        "    N=\\left[\\begin{array}{cccc}\n",
        "        n & 0 & \\cdots & 0 \\\\\n",
        "        0 & n & \\cdots & 0 \\\\\n",
        "        \\vdots & \\vdots & \\ddots & 0 \\\\\n",
        "        0 & 0 & \\cdots & n \\\\\n",
        "    \\end{array}\\right].\n",
        "\\label{eq:jacobian_hydraulic_matrix} \\tag{8}\n",
        "\\end{equation}"
      ]
    },
    {
      "cell_type": "markdown",
      "metadata": {
        "id": "MI9vSy05un50"
      },
      "source": [
        "However, computing the inverse of the Jacobian is not computationally efficient (at every iteration) and it may not be possible for singular matrices (i.e. zero-flow pipes). We therefore multiply both sides of \\eqref{eq:newton_raphson_1} by $J(x^k)$ to eliminate its inverse:"
      ]
    },
    {
      "cell_type": "markdown",
      "metadata": {
        "id": "FxRh01e3un50"
      },
      "source": [
        "\\begin{equation}\n",
        "    J(x^k)x^{k+1}=J(x^k)x^k-F(x^k).\n",
        "\\label{eq:newton_raphson_2} \\tag{9}\n",
        "\\end{equation}"
      ]
    },
    {
      "cell_type": "markdown",
      "metadata": {
        "id": "rbbHQABVun50"
      },
      "source": [
        "Each new iterate $x_{k+1}$ of the Newton-Raphson equation is computed by solving the following linear system:"
      ]
    },
    {
      "cell_type": "markdown",
      "metadata": {
        "id": "n6q9ZTpDun50"
      },
      "source": [
        "\\begin{equation}\n",
        "    \\left[\\begin{array}{cc}\n",
        "         NA_{11}(h_k)& A_{12} \\\\\n",
        "         A_{12}^T& 0 \\\\\n",
        "    \\end{array}\\right]\n",
        "    \\left[\\begin{array}{c}\n",
        "         q^{k+1} \\\\\n",
        "         h^{k+1} \\\\\n",
        "    \\end{array}\\right] =\n",
        "    \\left[\\begin{array}{cc}\n",
        "         NA_{11}(q^{k})& A_{12}  \\\\\n",
        "         A_{12}^T& 0 \\\\\n",
        "    \\end{array}\\right]\n",
        "    \\left[\\begin{array}{c}\n",
        "         q^{k} \\\\\n",
        "         h^{k} \\\\\n",
        "    \\end{array}\\right] - \\left[\\left[\\begin{array}{cc}\n",
        "         A_{11}(q^{k})& A_{12} \\\\\n",
        "         A_{12}^T& 0\\\\\n",
        "    \\end{array}\\right]\n",
        "    \\left[\\begin{array}{c}\n",
        "         q^{k} \\\\\n",
        "         h^{k} \\\\\n",
        "    \\end{array}\\right]+\\left[\\begin{array}{c}\n",
        "         A_{10}h_0 \\\\\n",
        "         -d\\\\\n",
        "    \\end{array}\\right]\\right],\n",
        "\\label{eq:newton_step_1} \\tag{10}\n",
        "\\end{equation}"
      ]
    },
    {
      "cell_type": "markdown",
      "metadata": {
        "id": "jGFYeA8Yun51"
      },
      "source": [
        "which simplifies to,"
      ]
    },
    {
      "cell_type": "markdown",
      "metadata": {
        "id": "MS4A9dtCun51"
      },
      "source": [
        "\\begin{equation}\n",
        "    \\left[\\begin{array}{cc}\n",
        "         NA_{11}(q^k)& A_{12} \\\\\n",
        "         A_{12}^T & 0\\\\\n",
        "    \\end{array}\\right] \\left[\\begin{array}{c}\n",
        "          q^{k+1} \\\\\n",
        "          h^{k+1} \\\\\n",
        "    \\end{array}\\right]=\n",
        "    \\left[\\begin{array}{c}\n",
        "         (N-I)A_{11}(q^k)q^k-A_{10}h_0\\\\\n",
        "         d\\\\\n",
        "    \\end{array}\\right].\n",
        "\\label{eq:newton_step_2} \\tag{11}\n",
        "\\end{equation}"
      ]
    },
    {
      "cell_type": "markdown",
      "metadata": {
        "id": "zqO1YBHGun51"
      },
      "source": [
        "At each iteration $k$, we perform the following convergence check:"
      ]
    },
    {
      "cell_type": "markdown",
      "metadata": {
        "id": "ERj18kZ_un52"
      },
      "source": [
        "\\begin{equation}\n",
        "\\begin{Vmatrix}\n",
        "        A_{11}(q^{k+1})q^{k+1} + A_{12}h^{k+1} + A_{10}h_0 \\\\\n",
        "        A_{12}^Tq^{k+1} - d\n",
        "\\end{Vmatrix}\n",
        "    _{\\infty} < \\epsilon_{\\text{tol}}\n",
        "\\label{eq:convergence_check} \\tag{12}\n",
        "\\end{equation}"
      ]
    },
    {
      "cell_type": "markdown",
      "metadata": {
        "id": "KKERckUHun52"
      },
      "source": [
        "where the solver has converged if the maximum error is less than a specified tolerance $\\epsilon_{\\text{tol}}$. The solution process for using the Newton-Raphson method for solving the system of nonlinear equations is shown in the figure below."
      ]
    },
    {
      "cell_type": "code",
      "execution_count": null,
      "metadata": {
        "id": "ePRDnmybun52"
      },
      "outputs": [],
      "source": [
        "# code for generating solution process chart\n",
        "from graphviz import Digraph\n",
        "\n",
        "dot = Digraph()\n",
        "\n",
        "# Add nodes\n",
        "dot.node(\"start\", label=\"Start\", shape=\"rect\", width=\"1.5\", height=\"0.5\", style=\"rounded\")\n",
        "dot.node(\"input\", label=\"Input network data\", shape=\"parallelogram\")\n",
        "dot.node(\"initial\", label=\"Initialize q^k, h^k\", shape=\"parallelogram\")\n",
        "dot.node(\"end\", label=\"End\", shape=\"rect\", width=\"1.5\", height=\"0.5\", style=\"rounded\")\n",
        "dot.node(\"convergence\", label=\"Convergence check\", shape=\"diamond\", width=\"1.0\", height=\"0.75\")\n",
        "dot.node(\"compute_h\", label=\"Compute h^{k+1}\", shape=\"rect\", width=\"2.5\")\n",
        "dot.node(\"compute_q\", label=\"Compute q^{k+1}\", shape=\"rect\", width=\"2.5\")\n",
        "dot.node(\"update\", label=\"Update A_11(q^{k+1})\", shape=\"rect\")\n",
        "dot.node(\"convergence\", label=\"Convergence check\", shape=\"diamond\", width=\"1.0\", height=\"0.75\")\n",
        "dot.node(\"dummy_1\", label=\"No\", shape=\"plaintext\", width=\"0.75\", height=\"0.5\")\n",
        "dot.node(\"dummy_2\", label=\"k = k + 1\", shape=\"plaintext\", width=\"0.75\", height=\"0.5\")\n",
        "dot.node(\"dummy_3\", label=\"Yes\", shape=\"plaintext\", width=\"0.75\", height=\"0.5\")\n",
        "\n",
        "# Add edges\n",
        "dot.edge(\"start\", \"input\")\n",
        "dot.edge(\"input\", \"initial\")\n",
        "dot.edge(\"convergence\", \"dummy_3\", dir=\"none\")\n",
        "dot.edge(\"dummy_3\", \"end\")\n",
        "dot.edge(\"initial\", \"compute_h\")\n",
        "dot.edge(\"compute_h\", \"compute_q\", headport=\"n\", tailport=\"s\")\n",
        "dot.edge(\"compute_q\", \"convergence\", headport=\"n\", tailport=\"s\")\n",
        "dot.edge(\"dummy_1\", \"update\", headport=\"s\")\n",
        "dot.edge(\"dummy_2\", \"update\", dir=\"none\", headport=\"n\")\n",
        "\n",
        "# Subgraphs\n",
        "with dot.subgraph(name=\"same_level_1\") as s1:\n",
        "    s1.attr(rank=\"same\")\n",
        "    s1.edge(\"compute_q\", \"update\", style=\"invis\", minlen=\"3\")\n",
        "with dot.subgraph(name=\"same_level_2\") as s2:\n",
        "    s2.attr(rank=\"same\")\n",
        "    s2.edge(\"convergence\", \"dummy_1\", dir=\"none\")\n",
        "with dot.subgraph(name=\"same_level_3\") as s3:\n",
        "    s3.attr(rank=\"same\")\n",
        "    s3.edge(\"compute_h\", \"dummy_2\", dir=\"back\", minlen=\"2\")\n",
        "with dot.subgraph(name=\"same_level_4\") as s4:\n",
        "    s4.attr(rankdir=\"TB\")\n",
        "    s4.edge(\"dummy_1\", \"dummy_2\", style=\"invis\")\n",
        "with dot.subgraph(name=\"same_level_5\") as s5:\n",
        "    s5.attr(rank=\"TB\")\n",
        "    s5.edge(\"compute_h\", \"compute_q\", style=\"invis\")\n",
        "    s5.edge(\"compute_q\", \"convergence\", style=\"invis\")\n",
        "\n",
        "# View flowchart\n",
        "dot"
      ]
    },
    {
      "cell_type": "markdown",
      "metadata": {
        "id": "OopHOKyLun53"
      },
      "source": [
        "Below is code for implementing the Newton-Raphson solver described above."
      ]
    },
    {
      "cell_type": "markdown",
      "metadata": {
        "id": "fTf_FR_Hun53"
      },
      "source": [
        "First, we use previously written code (now in a function) to load network data. We have to load these functions as follows."
      ]
    },
    {
      "cell_type": "code",
      "execution_count": null,
      "metadata": {
        "id": "vItBmhrSwjds"
      },
      "outputs": [],
      "source": [
        "# load functions from src folder\n",
        "if 'google.colab' in sys.modules:\n",
        "    sys.path.append('/content/CIVE_70019_70057/src/')\n",
        "    from general_functions import *\n",
        "    from hydraulic_functions import *\n",
        "else:\n",
        "    sys.path.append('/home/bradw/workspace/CIVE_70019_70057/src/')\n",
        "    from general_functions import *\n",
        "    from hydraulic_functions import *"
      ]
    },
    {
      "cell_type": "markdown",
      "metadata": {
        "id": "ZJU59rf4wn-G"
      },
      "source": [
        "Then, we can load network data using the previously defined function 'load_network_data'"
      ]
    },
    {
      "cell_type": "code",
      "execution_count": null,
      "metadata": {
        "id": "qOoMmSeXun54"
      },
      "outputs": [],
      "source": [
        "# net_name = 'demo.inp'\n",
        "net_name = 'stkl.inp'\n",
        "\n",
        "wdn = load_network_data(os.path.join(net_dir, net_name))"
      ]
    },
    {
      "cell_type": "markdown",
      "metadata": {
        "id": "MDQADbIVun54"
      },
      "source": [
        "The network layout is plotted below."
      ]
    },
    {
      "cell_type": "code",
      "execution_count": null,
      "metadata": {
        "id": "DlSjQ_foun54"
      },
      "outputs": [],
      "source": [
        "plot_network(wdn)"
      ]
    },
    {
      "cell_type": "markdown",
      "metadata": {
        "id": "c4luypasun55"
      },
      "source": [
        "Code for the Newton-Raphson solver is below."
      ]
    },
    {
      "cell_type": "code",
      "execution_count": null,
      "metadata": {
        "id": "5fwtmwQBun55"
      },
      "outputs": [],
      "source": [
        "### Step 1: unload network and hydraulic data\n",
        "A12 = wdn.A12\n",
        "A10 = wdn.A10\n",
        "net_info = wdn.net_info\n",
        "link_df = wdn.link_df\n",
        "node_df = wdn.node_df\n",
        "demand_df = wdn.demand_df\n",
        "h0_df = wdn.h0_df\n",
        "\n",
        "# define head loss equations\n",
        "def friction_loss(net_info, df):\n",
        "    if net_info['headloss'] == 'H-W':\n",
        "        K = 10.67 * df['length'] * (df['C'] ** -df['n_exp']) * (df['diameter'] ** -4.8704)\n",
        "    else:\n",
        "        K = [] # insert DW formula here...\n",
        "\n",
        "    return K\n",
        "\n",
        "def local_loss(df):\n",
        "    K = (8 / (np.pi ** 2 * 9.81)) * (df['diameter'] ** -4) * df['C']\n",
        "\n",
        "    return K\n",
        "\n",
        "# compute loss coefficients\n",
        "K = np.zeros((net_info['np'], 1))\n",
        "for idx, row in link_df.iterrows():\n",
        "    if row['link_type'] == 'pipe':\n",
        "        K[idx] = friction_loss(net_info, row)\n",
        "\n",
        "    elif row['link_type'] == 'valve':\n",
        "        K[idx] = local_loss(row)\n",
        "\n",
        "n_exp = link_df['n_exp'].astype(float).to_numpy().reshape(-1, 1)\n",
        "\n",
        "# set stopping criteria\n",
        "tol = 1e-9\n",
        "kmax = 50\n",
        "\n",
        "# small values in A11 make convergence unsteady; therefore, we need to define a lower bound -- see Todini (1988), page 7\n",
        "tol_A11 = 1e-9\n",
        "\n",
        "# set solution arrays\n",
        "q = np.zeros((net_info['np'], net_info['nt']))\n",
        "h = np.zeros((net_info['nn'], net_info['nt']))\n",
        "\n",
        "\n",
        "# run over all time steps\n",
        "for t in range(net_info['nt']):\n",
        "\n",
        "    ### Step 2: set initial values\n",
        "    hk = 130 * np.ones((net_info['nn'], 1))\n",
        "    qk = 0.03 * np.ones((net_info['np'], 1))\n",
        "\n",
        "    # set boundary head and demand conditions\n",
        "    dk = demand_df.iloc[:, t+1].to_numpy(); dk = dk.reshape(-1, 1)\n",
        "    h0k = h0_df.iloc[:, t+1].to_numpy(); h0k = h0k.reshape(-1, 1)\n",
        "\n",
        "    # initialise A11 matrix\n",
        "    A11_diag = K * (abs(qk) ** (n_exp - 1)) # diagonal elements of matrix A11\n",
        "    A11_diag[A11_diag < tol_A11] = tol_A11 # replace with small value = tol_A11\n",
        "    A11 = sp.diags(A11_diag.T, [0]) # matrix A11, allocated as a sparse diagonal matrix\n",
        "\n",
        "    # begin iterations\n",
        "    for k in range(kmax):\n",
        "\n",
        "        ### Step 3: compute h^{k+1} and q^{k+1} for each iteration k\n",
        "        N = sp.diags(n_exp.T, [0]) # matrix N\n",
        "        I = sp.eye(net_info['np'], format='csr') # identiy matrix with dimension np x np, allocated as a sparse matrix\n",
        "\n",
        "        b = np.concatenate([(N - I) @ A11 @ qk - A10 @ h0k, dk])\n",
        "        J = sp.bmat([[N @ A11, A12], [A12.T, sp.csr_matrix((net_info['nn'], net_info['nn']))]], format='csr')\n",
        "\n",
        "        # solve linear system\n",
        "        x = sp.linalg.spsolve(J, b)\n",
        "        qk = x[:net_info['np']]; qk = qk.reshape(-1, 1)\n",
        "        hk = x[net_info['np']:net_info['np'] + net_info['nn']];hk = hk.reshape(-1, 1)\n",
        "\n",
        "        # update A11 matrix\n",
        "        A11_diag = K * (abs(qk) ** (n_exp - 1)) # diagonal elements of matrix A11\n",
        "        A11_diag[A11_diag < tol_A11] = tol_A11 # replace with small value = tol_A11\n",
        "        A11 = sp.diags(A11_diag.T, [0]) # matrix A11, allocated as a sparse diagonal matrix\n",
        "\n",
        "\n",
        "        ### Step 4: convergence check\n",
        "        err = A11 @ qk + A12 @ hk + A10 @ h0k\n",
        "        max_err = np.linalg.norm(err, np.inf)\n",
        "\n",
        "        # print progress\n",
        "        print(f\"Time step t={t+1}, Iteration k={k}. Maximum energy conservation error is {max_err} m.\")\n",
        "\n",
        "        if max_err < tol:\n",
        "            # if successful,  break from loop\n",
        "            break\n",
        "\n",
        "    q[:, t] = qk.T\n",
        "    h[:, t] = hk.T\n",
        "\n",
        "# convert results to pandas dataframe\n",
        "column_names_q = [f'q_{t+1}' for t in range(net_info['nt'])]\n",
        "q_df = pd.DataFrame(q, columns=column_names_q)\n",
        "q_df.insert(0, 'link_ID', link_df['link_ID'])\n",
        "\n",
        "column_names_h = [f'h_{t+1}' for t in range(net_info['nt'])]\n",
        "h_df = pd.DataFrame(h, columns=column_names_h)\n",
        "h_df.insert(0, 'link_ID', link_df['link_ID'])\n"
      ]
    },
    {
      "cell_type": "markdown",
      "metadata": {
        "id": "3AGvpS3Gun56"
      },
      "source": [
        "<span style=\"color:red\">**NB: The above code comprises a function 'hydraulic_solver' in the file '~/src/hydraulic_functions.py'**.</span>"
      ]
    },
    {
      "cell_type": "markdown",
      "metadata": {
        "id": "TyfLwJPmun56"
      },
      "source": [
        "### Newton-Raphson solver with Schur complement"
      ]
    },
    {
      "cell_type": "markdown",
      "metadata": {
        "id": "ceQ7FMQkun56"
      },
      "source": [
        "We note that the system of linear equations in \\eqref{eq:newton_step_2} has a saddle point form. We can leverage this special structure to improve the computational performance of the Newton-Raphson solver."
      ]
    },
    {
      "cell_type": "markdown",
      "metadata": {
        "id": "2g4yixtIun56"
      },
      "source": [
        "#### Saddle point problem\n",
        "Let us first present the Newton-Raphson step as a general linear system with saddle point form, as folllows:"
      ]
    },
    {
      "cell_type": "markdown",
      "metadata": {
        "id": "SmxfWFI7un57"
      },
      "source": [
        "\\begin{equation}\n",
        "\\left[\\begin{array}{cc}\n",
        "     A&B_{1}  \\\\\n",
        "     B_{2}^T & C \\\\\n",
        "\\end{array}\\right] \\left[\\begin{array}{c}\n",
        "     x \\\\\n",
        "    y \\\\\n",
        "\\end{array}\\right]=\\left[\\begin{array}{c}\n",
        "     f  \\\\\n",
        "     g \\\\\n",
        "\\end{array}\\right], \\; \\text{or} \\; \\mathcal{A}u=b\n",
        "\\label{eq:saddle_point} \\tag{13}\n",
        "\\end{equation}"
      ]
    },
    {
      "cell_type": "markdown",
      "metadata": {
        "id": "VJoQdcgqun57"
      },
      "source": [
        "where the block matrices in \\eqref{eq:saddle_point} must satisfy the following conditions:\n",
        "1. $A \\succeq 0$ is symmetric positive semidefinite\n",
        "2. $B_1 = B_2 = B$\n",
        "3. $C \\succeq 0$ is symmetric positive semidefinite"
      ]
    },
    {
      "cell_type": "markdown",
      "metadata": {
        "id": "CuRH1dkrun58"
      },
      "source": [
        "In the Newton-Raphson step for our hydraulic simulation \\eqref{eq:newton_step_2}, these variables are defined as:\n",
        "- $A=NA_{11}(q_k)$\n",
        "- $B = A_{12}$\n",
        "- $C = O$ (zero matrix)\n",
        "- $x = q^{k+1}$\n",
        "- $y = h^{k+1}$\n",
        "- $f = (N-I)A_{11}(q^k)q^k-A_{10}h_0$\n",
        "- $g = d$"
      ]
    },
    {
      "cell_type": "markdown",
      "metadata": {
        "id": "WOr1gdydun58"
      },
      "source": [
        "#### Block factorisation and the Schur complement\n",
        "If A is nonsingular, the saddle point matrix $\\mathcal{A}$ admits the following block triangular factorization:"
      ]
    },
    {
      "cell_type": "markdown",
      "metadata": {
        "id": "1IJlXvVlun58"
      },
      "source": [
        "\\begin{equation}\n",
        "    \\mathcal{A}=\\left[\\begin{array}{cc}\n",
        "     A&B_1  \\\\\n",
        "     B_2^T& O \\\\\n",
        "\\end{array}\\right] =\\left[\\begin{array}{cc}\n",
        "     I & O \\\\\n",
        "    B_2^TA^{-1} & I \\\\\n",
        "\\end{array}\\right] \\left[\\begin{array}{cc}\n",
        "     A & O  \\\\\n",
        "     O & S \\\\\n",
        "\\end{array}\\right] \\left[\\begin{array}{cc}\n",
        "     I & A^{-1}B_1 \\\\\n",
        "     O & I \\\\\n",
        "\\end{array}\\right]\n",
        "\\label{saddle_property_1} \\tag{14}\n",
        "\\end{equation}\n",
        "\n",
        "\\begin{equation}\n",
        "    \\mathcal{A} = \\left[\\begin{array}{cc}\n",
        "     A & O  \\\\\n",
        "     B_2^T & S \\\\\n",
        "\\end{array}\\right] \\left[\\begin{array}{cc}\n",
        "     I & A^{-1}B_1 \\\\\n",
        "     O & I \\\\\n",
        "\\end{array}\\right]\n",
        "\\label{saddle_property_2} \\tag{15}\n",
        "\\end{equation}\n",
        "\n",
        "\\begin{equation}\n",
        "    \\mathcal{A} = \\left[\\begin{array}{cc}\n",
        "     I & O  \\\\\n",
        "     B_2^TA^{-1} & I \\\\\n",
        "\\end{array}\\right] \\left[\\begin{array}{cc}\n",
        "     A & B_1 \\\\\n",
        "     O & S \\\\\n",
        "\\end{array}\\right]\n",
        "\\label{saddle_property_3} \\tag{16}\n",
        "\\end{equation}"
      ]
    },
    {
      "cell_type": "markdown",
      "metadata": {
        "id": "3mzLecNtun59"
      },
      "source": [
        "where $S=-(B_2^TA^{-1}B_1)$ is the Schur complement of $A$ in $\\mathcal{A}$. In our hydraulic simulation problem, the Schur complement is defined as $S=-A_{12}^T\\left(NA_{11}(q^k)\\right)^{-1}A_{12}$."
      ]
    },
    {
      "cell_type": "markdown",
      "metadata": {
        "id": "Xn_ewBE8un59"
      },
      "source": [
        "The following conditions must hold on the system of linear equations to ensure that $S$ and $\\mathcal{A}$ are nonsingular:\n",
        "1. $A$ is symmetric positive definite\n",
        "2. $B$ has full column rank (i.e. $rank(B) = m$), where $m$ is the number of columns in $B$\n",
        "2. $ker(A)\\cap ker(B)={0}$"
      ]
    },
    {
      "cell_type": "markdown",
      "metadata": {
        "id": "5YdF2dwKun59"
      },
      "source": [
        "For the sake of brevity, we do not show a proof that $\\mathcal{A}$ is nonsingular for our linear system described in \\eqref{eq:newton_step_2}. We also note that, as introduced previously, it is common practice to include a small regularisation term $A_{11}{\\text{_tol}}$ to the diagonal elements of $A_{11}$ to ensure it is positively defined (and is therefore invertible). This has negligible impact on the energy conservation of the network."
      ]
    },
    {
      "cell_type": "markdown",
      "metadata": {
        "id": "LsrHvzR3un5-"
      },
      "source": [
        "#### Application of Schur complement to Newton-Raphson solver\n",
        "Recall the system of linear equations solved at each Newton-Raphson step,"
      ]
    },
    {
      "cell_type": "markdown",
      "metadata": {
        "id": "lgBx8Gbfun5-"
      },
      "source": [
        "\\begin{equation}\n",
        "    \\left[\\begin{array}{cc}\n",
        "         NA_{11}(q^k)& A_{12} \\\\\n",
        "         A_{12}^T & 0\\\\\n",
        "    \\end{array}\\right] \\left[\\begin{array}{c}\n",
        "          q^{k+1} \\\\\n",
        "          h^{k+1} \\\\\n",
        "    \\end{array}\\right]=\n",
        "    \\left[\\begin{array}{c}\n",
        "         (N-I)A_{11}(q^k)q^k-A_{10}h_0\\\\\n",
        "         d\\\\\n",
        "    \\end{array}\\right].\n",
        "\\label{eq:recall_newton_step} \\tag{17}\n",
        "\\end{equation}"
      ]
    },
    {
      "cell_type": "markdown",
      "metadata": {
        "id": "aJRzdPhZun5-"
      },
      "source": [
        "The above system can be written in a more expanded form"
      ]
    },
    {
      "cell_type": "markdown",
      "metadata": {
        "id": "boDzv0k-un5-"
      },
      "source": [
        "\\begin{eqnarray}\n",
        "   NA_{11}(q^k)q^{k+1}+A_{12}h^{k+1}&=&(N-I)A_{11}(q^k)q^k-A_{10}h_0 \\label{eq:newton_step_expand_1} \\tag{18}\\\\\n",
        "    A_{12}^Tq^{k+1}&=&d \\label{eq:newton_step_expand_2} \\tag{19}\n",
        "\\end{eqnarray}"
      ]
    },
    {
      "cell_type": "markdown",
      "metadata": {
        "id": "Y-UqyNhhun5-"
      },
      "source": [
        "Then, multiplying $A_{12}^T\\left(NA_{11}(q^k)\\right)^{-1}$ to each side of \\eqref{eq:newton_step_expand_1} and substituting $A_{12}^Tq^{k+1}=d$ yields"
      ]
    },
    {
      "cell_type": "markdown",
      "metadata": {
        "id": "A_0J5KKCun5_"
      },
      "source": [
        "\\begin{equation}\n",
        "A_{12}^T\\left(NA_{11}(q^k)\\right)^{-1}A_{12}h^{k+1}=A_{12}^T\\left(NA_{11}(q^k)\\right)^{-1}\\left((N-I)A_{11}(q^k)q^k-A_{10}h_0\\right)-d\n",
        "\\tag{20}\n",
        "\\end{equation}"
      ]
    },
    {
      "cell_type": "markdown",
      "metadata": {
        "id": "A2wVXwpJun5_"
      },
      "source": [
        "Finally, with $\\left(NA_{11}(q^k)\\right)^{-1}=N^{-1}\\left(A_{11}(q^k)\\right)^{-1}$, we have"
      ]
    },
    {
      "cell_type": "markdown",
      "metadata": {
        "id": "YH6gze-Uun6A"
      },
      "source": [
        "\\begin{equation}\n",
        "A_{12}^TN^{-1}\\left(A_{11}(q^k)\\right)^{-1}A_{12}h^{k+1}=-A_{12}^TN^{-1}(q^k+\\left(A_{11}(q^k)\\right)^{-1}A_{10}h_0)+A_{12}^Tq^k-d\n",
        "\\label{eq:h_update} \\tag{21}\n",
        "\\end{equation}"
      ]
    },
    {
      "cell_type": "markdown",
      "metadata": {
        "id": "9BrTjveLun6A"
      },
      "source": [
        "A new estimate of $h^{k+1}$ can then be computed. Here, the symmetric positive definite matrix $A_{12}^TN^{-1}\\left(A_{11}(q^k)\\right)^{-1}A_{12}$ (**Schur complement** of $NA_{11}^k$ in $\\begin{bmatrix}\n",
        "    N A_{11}^k & A_{12} \\\\\n",
        "    A_{12}^T & 0 \\\\\n",
        "\\end{bmatrix} $) is much smaller $(n_n \\times n_n)$ than the Jacobian $(n_p+n_n \\times n_p+n_n)$ in the original Newton-Raphson step. It also has nice properties, allowing for the use of fast factorisation algorithms (e.g. Cholesky factorisation).\n",
        "\n",
        "Once $h^{k+1}$ is determined, we can directly compute $q^{k+1}$ by rearanging terms and substituting in $h^{k+1}$, as follows"
      ]
    },
    {
      "cell_type": "markdown",
      "metadata": {
        "id": "ccEQDlheun6A"
      },
      "source": [
        "\\begin{equation}\n",
        "   q^{k+1}=-N^{-1}\\left(A_{11}(q^k)\\right)^{-1}A_{12}h^{k+1}+(I-N^{-1})q^k-N^{-1}\\left(A_{11}(q^k)\\right)^{-1}A_{10}h_0\n",
        "\\end{equation}"
      ]
    },
    {
      "cell_type": "markdown",
      "metadata": {
        "id": "1oTTTgo0un6A"
      },
      "source": [
        "Note that this solver routine is known as the global gradient algorithm (GGA), or 'nodal' version of the original Newton-Raphson method. The GGA algorithm is used in EPANET's solver routine."
      ]
    },
    {
      "cell_type": "markdown",
      "metadata": {
        "id": "wrM81tc7un6B"
      },
      "source": [
        "Code for implementing the Newton-Raphson solver with Schur complement is below."
      ]
    },
    {
      "cell_type": "code",
      "execution_count": null,
      "metadata": {
        "id": "ZsQFcR8Oun6B"
      },
      "outputs": [],
      "source": [
        "### Step 1: unload network and hydraulic data\n",
        "A12 = wdn.A12\n",
        "A10 = wdn.A10\n",
        "net_info = wdn.net_info\n",
        "link_df = wdn.link_df\n",
        "node_df = wdn.node_df\n",
        "demand_df = wdn.demand_df\n",
        "h0_df = wdn.h0_df\n",
        "\n",
        "# define head loss equations\n",
        "def friction_loss(net_info, df):\n",
        "    if net_info['headloss'] == 'H-W':\n",
        "        K = 10.67 * df['length'] * (df['C'] ** -df['n_exp']) * (df['diameter'] ** -4.8704)\n",
        "    else:\n",
        "        K = [] # insert DW formula here...\n",
        "\n",
        "    return K\n",
        "\n",
        "def local_loss(df):\n",
        "    K = (8 / (np.pi ** 2 * 9.81)) * (df['diameter'] ** -4) * df['C']\n",
        "\n",
        "    return K\n",
        "\n",
        "# compute loss coefficients\n",
        "K = np.zeros((net_info['np'], 1))\n",
        "for idx, row in link_df.iterrows():\n",
        "    if row['link_type'] == 'pipe':\n",
        "        K[idx] = friction_loss(net_info, row)\n",
        "\n",
        "    elif row['link_type'] == 'valve':\n",
        "        K[idx] = local_loss(row)\n",
        "\n",
        "n_exp = link_df['n_exp'].astype(float).to_numpy().reshape(-1, 1)\n",
        "\n",
        "# set stopping criteria\n",
        "tol = 1e-5\n",
        "kmax = 50\n",
        "\n",
        "# small values in A11 make convergence unsteady; therefore, we need to define a lower bound -- see Todini (1988), page 7\n",
        "tol_A11 = 1e-5\n",
        "\n",
        "# set solution arrays\n",
        "q = np.zeros((net_info['np'], net_info['nt']))\n",
        "h = np.zeros((net_info['nn'], net_info['nt']))\n",
        "\n",
        "\n",
        "# run over all time steps\n",
        "for t in range(net_info['nt']):\n",
        "\n",
        "    ### Step 2: set initial values\n",
        "    hk = 130 * np.ones((net_info['nn'], 1))\n",
        "    qk = 0.03 * np.ones((net_info['np'], 1))\n",
        "\n",
        "    # set boundary head and demand conditions\n",
        "    dk = demand_df.iloc[:, t+1].to_numpy(); dk = dk.reshape(-1, 1)\n",
        "    h0k = h0_df.iloc[:, t+1].to_numpy(); h0k = h0k.reshape(-1, 1)\n",
        "\n",
        "    # initialise A11 matrix\n",
        "    A11_diag = K * (abs(qk) ** (n_exp - 1)) # diagonal elements of matrix A11\n",
        "    A11_diag[A11_diag < tol_A11] = tol_A11 # replace with small value = tol_A11\n",
        "    A11 = sp.diags(A11_diag.T, [0]) # matrix A11, allocated as a sparse diagonal matrix\n",
        "\n",
        "    # begin iterations\n",
        "    for k in range(kmax):\n",
        "\n",
        "        ### Step 3: compute h^{k+1} and q^{k+1}\n",
        "        inv_A11_diag = 1 / A11_diag; # diagonal elements of the inverse of A11\n",
        "        inv_A11 = sp.diags(inv_A11_diag.T, [0]) # inverse of A11, allocated as a sparse, diagonal matrix\n",
        "\n",
        "        inv_N = sp.diags(1/n_exp.T, [0]) # inverse of matrix N\n",
        "\n",
        "        DD = inv_N @ inv_A11 # matrix inv_N * inv_A11\n",
        "\n",
        "        b = -A12.T @ inv_N @ (qk + inv_A11 @ (A10 @ h0k)) + A12.T @ qk - dk # right-hand side of linear system for finding h^{k+1]\n",
        "        A = A12.T @ DD @ A12 # Schur complement\n",
        "\n",
        "        # solve linear system for h^{k+1]\n",
        "        hk = sp.linalg.spsolve(A, b); hk = hk.reshape(-1, 1)\n",
        "\n",
        "        # solve q^{k+1} by substitution\n",
        "        I = sp.eye(net_info['np'], format='csr') # identiy matrix with dimension np x np, allocated as a sparse matrix\n",
        "        qk = (I - inv_N) @ qk - DD @ ((A12 @ hk) + (A10 @ h0k))\n",
        "\n",
        "        # update A11 matrix\n",
        "        A11_diag = K * (abs(qk) ** (n_exp - 1)) # diagonal elements of matrix A11\n",
        "        A11_diag[A11_diag < tol_A11] = tol_A11 # replace with small value = tol_A11\n",
        "        A11 = sp.diags(A11_diag.T, [0]) # matrix A11, allocated as a sparse diagonal matrix\n",
        "\n",
        "        ### Step 4: convergence check\n",
        "        err = A11 @ qk + A12 @ hk + A10 @ h0k\n",
        "        max_err = np.linalg.norm(err, np.inf)\n",
        "\n",
        "        # print progress\n",
        "        print(f\"Time step t={t+1}, Iteration k={k}. Maximum energy conservation error is {max_err} m.\")\n",
        "\n",
        "        if max_err < tol:\n",
        "            # if successful,  break from loop\n",
        "            break\n",
        "\n",
        "    q[:, t] = qk.T\n",
        "    h[:, t] = hk.T\n",
        "\n",
        "# convert results to pandas dataframe\n",
        "column_names_q = [f'q_{t+1}' for t in range(net_info['nt'])]\n",
        "q_df = pd.DataFrame(q, columns=column_names_q)\n",
        "q_df.insert(0, 'link_ID', link_df['link_ID'])\n",
        "\n",
        "column_names_h = [f'h_{t+1}' for t in range(net_info['nt'])]\n",
        "h_df = pd.DataFrame(h, columns=column_names_h)\n",
        "h_df.insert(0, 'link_ID', link_df['link_ID'])"
      ]
    },
    {
      "cell_type": "markdown",
      "metadata": {
        "id": "v_5YYgSBun6C"
      },
      "source": [
        "<span style=\"color:red\">**NB: The above code comprises a function 'hydraulic_solver' in the file '~/src/hydraulic_functions.py'**.</span>"
      ]
    },
    {
      "cell_type": "markdown",
      "metadata": {
        "id": "qicKOL9mun6C"
      },
      "source": [
        "### Hydraulic solver comparison"
      ]
    },
    {
      "cell_type": "markdown",
      "metadata": {
        "id": "vw3HInMmun6C"
      },
      "source": [
        "Here, we will compare the accuracy and computational times of our Newton-Raphson (original) and Newton-Raphson (with Schur complement) hydraulic solvers. We also check their accuracy in comparison to the EPANET solver engine used in the `wntr` package."
      ]
    },
    {
      "cell_type": "markdown",
      "metadata": {
        "id": "VRD58wwRun6C"
      },
      "source": [
        "Again, we first import the functions we have written and load the network data."
      ]
    },
    {
      "cell_type": "code",
      "execution_count": null,
      "metadata": {
        "id": "hNxGuKF_un6C"
      },
      "outputs": [],
      "source": [
        "import time # for comparing cpu times\n",
        "\n",
        "# net_name = 'demo.inp'\n",
        "net_name = 'stkl.inp'\n",
        "\n",
        "wdn = load_network_data(os.path.join(net_dir, net_name))"
      ]
    },
    {
      "cell_type": "markdown",
      "metadata": {
        "id": "X1fuNdZDun6C"
      },
      "source": [
        "Simulate hydraulics and compare computational times."
      ]
    },
    {
      "cell_type": "code",
      "execution_count": null,
      "metadata": {
        "id": "YkFVKj_Hun6D"
      },
      "outputs": [],
      "source": [
        "### hydraulic_solver(wdn, method=None, print_status=False)"
      ]
    },
    {
      "cell_type": "code",
      "execution_count": null,
      "metadata": {
        "id": "I3qm7dDmun6D"
      },
      "outputs": [],
      "source": [
        "### Newton-Raphson solver\n",
        "start_time = time.perf_counter()\n",
        "q_nr, h_nr = hydraulic_solver(wdn, method='nr')\n",
        "end_time = time.perf_counter()\n",
        "cpu_time_nr = end_time - start_time\n",
        "cpu_time_nr"
      ]
    },
    {
      "cell_type": "code",
      "execution_count": null,
      "metadata": {
        "id": "KhTJlej_un6D"
      },
      "outputs": [],
      "source": [
        "### Newton-Raphson with Schur complement solver\n",
        "start_time = time.perf_counter()\n",
        "q_schur, h_schur = hydraulic_solver(wdn, method='nr_schur')\n",
        "end_time = time.perf_counter()\n",
        "cpu_time_schur = end_time - start_time\n",
        "cpu_time_schur"
      ]
    },
    {
      "cell_type": "code",
      "execution_count": null,
      "metadata": {
        "id": "RqMjQ2OPun6D"
      },
      "outputs": [],
      "source": [
        "### EPANET solver (via WNTR package)\n",
        "start_time = time.perf_counter()\n",
        "q_epa, h_epa = epanet_solver(os.path.join(net_dir, net_name))\n",
        "end_time = time.perf_counter()\n",
        "cpu_time_epa = end_time - start_time\n",
        "cpu_time_epa"
      ]
    },
    {
      "cell_type": "markdown",
      "metadata": {
        "id": "V_V4jrjyx1Xv"
      },
      "source": [
        "The results indicate an increase in computational speed applying the Schur complement in the Newton-Raphson step.\n",
        "\n",
        "Note that the EPANET solver used in `wntr` is faster since it is compiled in C++. Python is known to have a slower compiling time since it is a higher level programming language. Moreover, the presented code was not intended to have efficiency as its main goal. This could certainly be improved upon. In any case, the purpose of this notebook was to describe the solver routine for hydraulic models."
      ]
    },
    {
      "cell_type": "markdown",
      "metadata": {
        "id": "ajYlWRg8un6F"
      },
      "source": [
        "We also show how to plot node and edge values below using the `networkx` package."
      ]
    },
    {
      "cell_type": "code",
      "execution_count": null,
      "metadata": {
        "id": "beebr8hZun6F"
      },
      "outputs": [],
      "source": [
        "# set plotting values\n",
        "t = 8\n",
        "plot_type = 'pressure head' # 'flow' or 'hydraulic head' or 'pressure head'\n",
        "if plot_type == 'hydraulic head' or plot_type == 'pressure head':\n",
        "    vals = h_schur\n",
        "elif plot_type == 'flow':\n",
        "    vals = q_schur\n",
        "\n",
        "plot_network(wdn, plot_type=plot_type, vals=vals, t=t)"
      ]
    },
    {
      "cell_type": "markdown",
      "metadata": {
        "id": "nv5gpbRyun6G"
      },
      "source": [
        "An accuracy comparison with EPANET is also presented below."
      ]
    },
    {
      "cell_type": "code",
      "execution_count": null,
      "metadata": {
        "id": "MgsNC3BGun6G"
      },
      "outputs": [],
      "source": [
        "import matplotlib.pyplot as plt\n",
        "\n",
        "# Newton-Raphson v. EPANET: flow\n",
        "qdiff_1 = q_nr.iloc[:, 1:] - q_epa.iloc[:, 1:]\n",
        "qdiff_1_array = qdiff_1.values.flatten() * 1000\n",
        "plt.hist(qdiff_1_array, bins = 25, color='blue', alpha=0.6)\n",
        "\n",
        "# Set labels and title\n",
        "plt.xlabel('Flow difference [L/s]', fontsize=12)\n",
        "plt.ylabel('Frequency', fontsize=12)\n",
        "plt.title('Newton-Raphson v. EPANET', fontsize=14)\n",
        "\n",
        "# Display the plot\n",
        "plt.show()"
      ]
    },
    {
      "cell_type": "code",
      "execution_count": null,
      "metadata": {
        "id": "5ePyoSCxun6G"
      },
      "outputs": [],
      "source": [
        "# Newton-Raphson v. EPANET: hydraulic head\n",
        "hdiff_1 = h_nr.iloc[:, 1:] - h_epa.iloc[:, 1:]\n",
        "hdiff_1_array = hdiff_1.values.flatten()\n",
        "plt.hist(hdiff_1_array, bins = 25, color='red', alpha=0.6)\n",
        "\n",
        "# Set labels and title\n",
        "plt.xlabel('Head difference [m]', fontsize=12)\n",
        "plt.ylabel('Frequency', fontsize=12)\n",
        "plt.title('Newton-Raphson v. EPANET', fontsize=14)\n",
        "\n",
        "# Display the plot\n",
        "plt.show()"
      ]
    },
    {
      "cell_type": "code",
      "execution_count": null,
      "metadata": {
        "id": "7fS6il0Aun6H"
      },
      "outputs": [],
      "source": [
        "# Newton-Raphson with Schur v. EPANET: flow\n",
        "qdiff_2 = q_schur.iloc[:, 1:] - q_epa.iloc[:, 1:]\n",
        "qdiff_2_array = qdiff_2.values.flatten() * 1000\n",
        "plt.hist(qdiff_2_array, bins = 25, color='blue', alpha=0.6)\n",
        "\n",
        "# Set labels and title\n",
        "plt.xlabel('Flow difference [L/s]', fontsize=12)\n",
        "plt.ylabel('Frequency', fontsize=12)\n",
        "plt.title('Newton-Raphson with Schur v. EPANET', fontsize=14)\n",
        "\n",
        "# Display the plot\n",
        "plt.show()"
      ]
    },
    {
      "cell_type": "code",
      "execution_count": null,
      "metadata": {
        "id": "Ut8eyTGNun6H"
      },
      "outputs": [],
      "source": [
        "# Newton-Raphson with Schur v. EPANET: hydraulic head\n",
        "hdiff_2 = h_schur.iloc[:, 1:] - h_epa.iloc[:, 1:]\n",
        "hdiff_2_array = hdiff_2.values.flatten()\n",
        "plt.hist(hdiff_2_array, bins = 25, color='red', alpha=0.6)\n",
        "\n",
        "# Set labels and title\n",
        "plt.xlabel('Head difference [m]', fontsize=12)\n",
        "plt.ylabel('Frequency', fontsize=12)\n",
        "plt.title('Newton-Raphson with Schur v. EPANET', fontsize=14)\n",
        "\n",
        "# Display the plot\n",
        "plt.show()"
      ]
    },
    {
      "cell_type": "markdown",
      "metadata": {
        "id": "0zW7VJmxun6H"
      },
      "source": [
        "### Future work items"
      ]
    },
    {
      "cell_type": "markdown",
      "metadata": {
        "id": "MICG5FEoun6I"
      },
      "source": [
        "This notebook could be extended to include:\n",
        "1. Tanks (i.e. storage facilities with finite volume)\n",
        "2. Hydraulic controls (e.g. pressure control valves, pumping)"
      ]
    },
    {
      "cell_type": "markdown",
      "metadata": {
        "id": "96BJ4Y9aYVN0"
      },
      "source": [
        "### Field data comparison"
      ]
    },
    {
      "cell_type": "markdown",
      "metadata": {
        "id": "lxjwt0eqYVN0"
      },
      "source": [
        "Load field data."
      ]
    },
    {
      "cell_type": "code",
      "execution_count": null,
      "metadata": {
        "id": "J1pG5657YVN0"
      },
      "outputs": [],
      "source": [
        "net_name = 'stkl.inp'\n",
        "data_name = 'stkl_coursework_dataset.npy'\n",
        "\n",
        "data = np.load(os.path.join(data_dir, data_name), allow_pickle=True).item()\n",
        "h_data = data['h_data']\n",
        "sensor_idx = data['sensor_idx'] - 1\n",
        "d_data = data['d']\n",
        "h0_data = data['h0'].reshape(-1, 1).T"
      ]
    },
    {
      "cell_type": "markdown",
      "metadata": {
        "id": "7dkHdjF_YVN0"
      },
      "source": [
        "Redefine hydraulic solver function to input demand and h0 field data."
      ]
    },
    {
      "cell_type": "code",
      "execution_count": null,
      "metadata": {
        "id": "LRJcosrRYVN0"
      },
      "outputs": [],
      "source": [
        "# redefine hydraulic solver function to input demand and h0 data\n",
        "def hydraulic_solver(inp_file, d_data, h0_data, C=None, demand=False):\n",
        "\n",
        "    # load network from wntr\n",
        "    inp_file = os.path.join(net_dir, net_name)\n",
        "    wn = wntr.network.WaterNetworkModel(inp_file)\n",
        "\n",
        "    # get network properties\n",
        "    reservoir_names = wn.reservoir_name_list\n",
        "    junction_names = wn.junction_name_list\n",
        "    link_names = wn.link_name_list\n",
        "\n",
        "    # modify simulation time and hydraulic time step\n",
        "    nt = h0_data.shape[1]\n",
        "    wn.options.time.duration = (nt - 1) * 3600\n",
        "    wn.options.time.hydraulic_timestep = 3600\n",
        "    wn.options.time.pattern_timestep = 3600\n",
        "    wn.options.time.report_timestep = 3600\n",
        "\n",
        "    # assign reservoir data\n",
        "    for (i, name) in enumerate(reservoir_names):\n",
        "        wn.add_pattern(f'h0_{i}', h0_data[i])\n",
        "        reservoir = wn.get_node(name)\n",
        "        reservoir.head_timeseries.base_value = 1\n",
        "        reservoir.head_timeseries.pattern_name = wn.get_pattern(f'h0_{i}')\n",
        "\n",
        "    # replace demand data\n",
        "    for idx, name in enumerate(junction_names):\n",
        "\n",
        "        if any(val != 0 for val in d_data[idx, :]):\n",
        "            node = wn.get_node(name)\n",
        "            d_pat = d_data[idx, :]\n",
        "            wn.add_pattern('d_'+name, d_pat)\n",
        "\n",
        "            for (i, num) in enumerate(node.demand_timeseries_list):\n",
        "                if i == 0:\n",
        "                    node.demand_timeseries_list[i].base_value = 1\n",
        "                    node.demand_timeseries_list[i].pattern_name = 'd_'+name\n",
        "                else:\n",
        "                    node.demand_timeseries_list[i].base_value = None\n",
        "                    node.demand_timeseries_list[i].pattern_name = None\n",
        "\n",
        "    # assign roughness (or HW) coefficients\n",
        "    if C is not None:\n",
        "        for name, link in wn.links():\n",
        "\n",
        "            # check if the link is a pipe\n",
        "            if isinstance(link, wntr.network.Pipe):\n",
        "                link.roughness = C[link_names.index(name)]\n",
        "\n",
        "            # check if link is a valve\n",
        "            elif isinstance(link, wntr.network.Valve):\n",
        "                link.minor_loss = C[link_names.index(name)]\n",
        "                link.initial_setting = C[link_names.index(name)]\n",
        "\n",
        "    # run simulation and get results\n",
        "    sim = wntr.sim.EpanetSimulator(wn)\n",
        "    results = sim.run_sim()\n",
        "\n",
        "    q_sim = results.link['flowrate'].T\n",
        "    h_sim = results.node['head'].T\n",
        "    h_sim = h_sim[~h_sim.index.isin(reservoir_names)] # delete reservoir nodes\n",
        "    d = results.node['demand'].T\n",
        "    d = d[~d.index.isin(reservoir_names)] # delete reservoir nodes\n",
        "\n",
        "\n",
        "    if demand == True:\n",
        "        return d.to_numpy()\n",
        "    else:\n",
        "        return q_sim.to_numpy(), h_sim.to_numpy()"
      ]
    },
    {
      "cell_type": "markdown",
      "metadata": {
        "id": "E571dzr2YVN0"
      },
      "source": [
        "Simulate hydraulics."
      ]
    },
    {
      "cell_type": "code",
      "execution_count": null,
      "metadata": {
        "id": "EnkATP5OYVN0"
      },
      "outputs": [],
      "source": [
        "_, h = hydraulic_solver(os.path.join(net_dir, net_name), d_data, h0_data)"
      ]
    },
    {
      "cell_type": "markdown",
      "metadata": {
        "id": "YN_7K63AYVN0"
      },
      "source": [
        "Compute pressure residuals."
      ]
    },
    {
      "cell_type": "code",
      "execution_count": null,
      "metadata": {
        "id": "9ZIfIzigYVN0"
      },
      "outputs": [],
      "source": [
        "residuals = h[sensor_idx, :] - h_data\n",
        "\n",
        "fig, ax = plt.subplots()\n",
        "boxplot = ax.boxplot(residuals.T, medianprops=dict(color=\"red\", linewidth=1.0), flierprops=dict(marker=\"+\", markeredgecolor=\"red\"), whiskerprops=dict(linestyle=(5, (8, 5)), linewidth=0.6), boxprops=dict(color='black', linewidth=0.6), capprops=dict(linewidth=0.6))\n",
        "ax.set_xlabel('Sensor index', fontsize=12)\n",
        "ax.set_ylabel('Pressure residual [m]', fontsize=12)"
      ]
    },
    {
      "cell_type": "markdown",
      "metadata": {
        "id": "Y6lt-YxMYVN0"
      },
      "source": [
        "### Questions\n",
        "1. Familiarise yourself with the networks, data structures and hydraulic simulation functions (this will be useful for the coursework!). For NR and NR with Schur, see if you can recognize the steps discussed in class.\n",
        "2. Try running the hydraulic simulation for STKLnet using (a) NR and (b) NR with Schur. Comment on the differences in computation times observed.\n",
        "3. For STKLnet, compare simulated and measured pressures at All_Sensors. Specifically, comment on the sign (i.e. are pressures over or underestimated in the hydraulic simulation?) and temporal (i.e. are the residuals time dependent?) and spatial distribution (i.e. are all sensors affected?) of the pressure residuals? How do you interpret this difference?"
      ]
    }
  ],
  "metadata": {
    "colab": {
      "provenance": [],
      "include_colab_link": true
    },
    "kernelspec": {
      "display_name": "CIVE_module_env",
      "language": "python",
      "name": "python3"
    },
    "language_info": {
      "codemirror_mode": {
        "name": "ipython",
        "version": 3
      },
      "file_extension": ".py",
      "mimetype": "text/x-python",
      "name": "python",
      "nbconvert_exporter": "python",
      "pygments_lexer": "ipython3",
      "version": "3.10.11"
    }
  },
  "nbformat": 4,
  "nbformat_minor": 0
}